{
 "cells": [
  {
   "cell_type": "code",
   "execution_count": 1,
   "metadata": {},
   "outputs": [],
   "source": [
    "# With Open automaticly closed the file\n",
    "\n",
    "with open(\"Working for Axiom\",\"w\") as axiom:\n",
    "    axiom.write(\"Hello\")\n",
    "    axiom.write(\"World\")"
   ]
  },
  {
   "cell_type": "code",
   "execution_count": 2,
   "metadata": {},
   "outputs": [],
   "source": [
    "axiom=open(\"pi_digital.txt\",\"w\")\n",
    "axiom.write(\"Asad\")\n",
    "axiom.write(\" Khan\")\n",
    "axiom.close()"
   ]
  },
  {
   "cell_type": "code",
   "execution_count": 3,
   "metadata": {},
   "outputs": [
    {
     "name": "stdout",
     "output_type": "stream",
     "text": [
      "Asad Khan\n"
     ]
    }
   ],
   "source": [
    "with open(\"pi_digital.txt\",\"r\") as axiom:\n",
    "    print(axiom.read())"
   ]
  },
  {
   "cell_type": "code",
   "execution_count": 4,
   "metadata": {},
   "outputs": [
    {
     "data": {
      "text/plain": [
       "'Asad Khan'"
      ]
     },
     "execution_count": 4,
     "metadata": {},
     "output_type": "execute_result"
    }
   ],
   "source": [
    "axiom=open(\"pi_digital.txt\",\"r\")\n",
    "axiom.read()"
   ]
  },
  {
   "cell_type": "code",
   "execution_count": 5,
   "metadata": {},
   "outputs": [],
   "source": [
    "with open(\"pi_digital.txt\",\"a\") as content:\n",
    "    content.write(\"\\n this is a new file in append mode\")"
   ]
  },
  {
   "cell_type": "code",
   "execution_count": 7,
   "metadata": {},
   "outputs": [
    {
     "name": "stdout",
     "output_type": "stream",
     "text": [
      "\n",
      " this is a new file in append modepend mode\n"
     ]
    }
   ],
   "source": [
    "with open(\"pi_digital.txt\",\"r+\") as a:\n",
    "    a.write(\"\\n this is a new file in append mode\")\n",
    "    a.seek(0)\n",
    "    ab = a.read()\n",
    "    print(ab)"
   ]
  },
  {
   "cell_type": "code",
   "execution_count": null,
   "metadata": {},
   "outputs": [],
   "source": []
  }
 ],
 "metadata": {
  "kernelspec": {
   "display_name": "Python 3",
   "language": "python",
   "name": "python3"
  },
  "language_info": {
   "codemirror_mode": {
    "name": "ipython",
    "version": 3
   },
   "file_extension": ".py",
   "mimetype": "text/x-python",
   "name": "python",
   "nbconvert_exporter": "python",
   "pygments_lexer": "ipython3",
   "version": "3.7.1"
  }
 },
 "nbformat": 4,
 "nbformat_minor": 2
}
